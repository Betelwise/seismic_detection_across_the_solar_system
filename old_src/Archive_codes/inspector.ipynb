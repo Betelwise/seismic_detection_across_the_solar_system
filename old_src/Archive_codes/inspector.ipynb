{
 "cells": [
  {
   "cell_type": "code",
   "execution_count": 1,
   "metadata": {},
   "outputs": [],
   "source": [
    "import pandas as pd\n",
    "import matplotlib.pyplot as plt\n",
    "from ipywidgets import Button, VBox, HBox, Output, Label\n",
    "from IPython.display import display\n",
    "import glob\n",
    "\n"
   ]
  },
  {
   "cell_type": "code",
   "execution_count": 2,
   "metadata": {},
   "outputs": [],
   "source": [
    "# data_directory = './data/lunar/training/data/S12_GradeA/test1/'\n",
    "\n",
    "# # Step 1: Load all CSV files\n",
    "# csv_files = sorted(glob.glob('./data/lunar/training/data/S12_GradeA/test1/*.csv'))\n",
    "# current_file_idx = 0\n",
    "# # Step 2: Define function to load CSV file\n",
    "# def load_csv(file_idx):\n",
    "#     df = pd.read_csv(csv_files[file_idx])\n",
    "#     return df\n",
    "# csv_files[0]"
   ]
  },
  {
   "cell_type": "code",
   "execution_count": 3,
   "metadata": {},
   "outputs": [],
   "source": [
    "# data_cat = load_csv(1)\n",
    "# data_cat"
   ]
  },
  {
   "cell_type": "code",
   "execution_count": 4,
   "metadata": {},
   "outputs": [],
   "source": [
    "# Step 1: Load all CSV files\n",
    "csv_files = sorted(glob.glob('./data/lunar/training/data/S12_GradeA/*.csv'))\n",
    "current_file_idx = 0\n",
    "\n",
    "# Step 2: Define function to load CSV file\n",
    "def load_csv(file_idx):\n",
    "    df = pd.read_csv(csv_files[file_idx])\n",
    "    return df\n",
    "\n",
    "#Step 3: Function to plot the data\n",
    "def plot_event(file_idx):\n",
    "    df = load_csv(file_idx)\n",
    "    plt.figure(figsize=(10, 6))\n",
    "    plt.plot(df['time_rel(sec)'], df['velocity(m/s)'])\n",
    "    plt.title(f\"Seismic Event from file: {csv_files[file_idx]}\")\n",
    "    plt.xlabel(\"Time\")\n",
    "    plt.ylabel(\"Velocity\")\n",
    "    plt.grid(True)\n",
    "    plt.show()\n",
    "\n",
    "# Step 4: Navigation Functions\n",
    "def on_next_button_click(b):\n",
    "    global current_file_idx\n",
    "    if current_file_idx < len(csv_files) - 1:\n",
    "        current_file_idx += 1\n",
    "        update_plot()\n",
    "\n",
    "def on_prev_button_click(b):\n",
    "    global current_file_idx\n",
    "    if current_file_idx > 0:\n",
    "        current_file_idx -= 1\n",
    "        update_plot()\n",
    "\n",
    "def update_plot():\n",
    "    output.clear_output(wait=True)\n",
    "    with output:\n",
    "        plot_event(current_file_idx)\n",
    "        file_label.value = f\"Current File: {csv_files[current_file_idx]}\"\n",
    "\n",
    "# Step 5: Set up buttons and output area\n",
    "next_button = Button(description=\"Next Event\")\n",
    "prev_button = Button(description=\"Previous Event\")\n",
    "next_button.on_click(on_next_button_click)\n",
    "prev_button.on_click(on_prev_button_click)\n",
    "\n",
    "file_label = Label(f\"Current File: {csv_files[current_file_idx]}\")\n",
    "output = Output()"
   ]
  },
  {
   "cell_type": "code",
   "execution_count": 5,
   "metadata": {},
   "outputs": [],
   "source": [
    "# Initial plot\n",
    "with output:\n",
    "    plot_event(0)"
   ]
  },
  {
   "cell_type": "code",
   "execution_count": 6,
   "metadata": {},
   "outputs": [
    {
     "data": {
      "application/vnd.jupyter.widget-view+json": {
       "model_id": "4755856440ca4da684bcfe0c23eb6141",
       "version_major": 2,
       "version_minor": 0
      },
      "text/plain": [
       "VBox(children=(HBox(children=(Button(description='Previous Event', style=ButtonStyle()), Button(description='N…"
      ]
     },
     "metadata": {},
     "output_type": "display_data"
    }
   ],
   "source": [
    "# Display buttons and plot\n",
    "display(VBox([HBox([prev_button, next_button]), file_label, output]))"
   ]
  }
 ],
 "metadata": {
  "kernelspec": {
   "display_name": "Python 3",
   "language": "python",
   "name": "python3"
  },
  "language_info": {
   "codemirror_mode": {
    "name": "ipython",
    "version": 3
   },
   "file_extension": ".py",
   "mimetype": "text/x-python",
   "name": "python",
   "nbconvert_exporter": "python",
   "pygments_lexer": "ipython3",
   "version": "3.12.6"
  }
 },
 "nbformat": 4,
 "nbformat_minor": 2
}
